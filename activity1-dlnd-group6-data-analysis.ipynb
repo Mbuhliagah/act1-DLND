{
 "cells": [
  {
   "cell_type": "markdown",
   "metadata": {},
   "source": [
    "# Early Detection of Epilepsy "
   ]
  },
  {
   "cell_type": "markdown",
   "metadata": {},
   "source": [
    "**Step 1**: Downloading the dataset:\n",
    "\n",
    "Use the following link https://neureka-challenge.com/, you will find all the information in order to understand how to download the dataset.        "
   ]
  },
  {
   "cell_type": "markdown",
   "metadata": {},
   "source": [
    "**Step 2**: Installing MNE-Python\n",
    "\n",
    "MNE-Python is an open-source Python module for processing, analysis, and visualization of functional neuroimaging data (such as EEG signals). \n",
    "use the following link to install:\n",
    "https://mne.tools/dev/install/mne_python.html#installing-python"
   ]
  },
  {
   "cell_type": "markdown",
   "metadata": {},
   "source": [
    "**Step 3**: Preparing the dataset \n",
    "\n",
    "When you downloading the dataset, you have to looking for the following:\n",
    "    \n",
    "1. The EDF files (training & validation):\n",
    "\n",
    "The edf folder that contain two sub-folders( train for training dataset and dev for validation dataset). \n",
    "\n",
    "2. The Labels files:\n",
    "\n",
    "The _DOCS folder that contain tow text files ( ref_train.txt that including the labels and the event's time for each edf file for training dataset and ref_dev.txt that including the labels and the event's time for each edf file for validation dataset).\n"
   ]
  },
  {
   "cell_type": "markdown",
   "metadata": {},
   "source": [
    "**Update:** I deleted everything before to make the notebok cleaner. Let's read the data the cleaned data directly."
   ]
  },
  {
   "cell_type": "code",
   "execution_count": 89,
   "metadata": {},
   "outputs": [],
   "source": [
    "import matplotlib.pyplot as plt\n",
    "import pandas as pd\n",
    "import numpy as np\n",
    "import os\n",
    "import glob\n",
    "\n",
    "def find_files(type_):\n",
    "    path = '/Users/mbuhliagah/desktop/Udacity/act1-DLND/Datasets/generate_data/data_train/' # change this to the absolute path in your pc\n",
    "    extension = 'csv'\n",
    "    os.chdir(path)\n",
    "    result = glob.glob('df_feat_'+type_+'*.{}'.format(extension))\n",
    "    return result"
   ]
  },
  {
   "cell_type": "code",
   "execution_count": 60,
   "metadata": {},
   "outputs": [],
   "source": [
    "path = '/Users/mbuhliagah/desktop/Udacity/act1-DLND/Datasets/generate_data/data_train/' # change this to the absolute path in your pc\n",
    "\n",
    "\n",
    "\n",
    "def read_csv(result):\n",
    "    for i in range(len(result)):\n",
    "        if i == 0:\n",
    "            df = pd.read_csv(path+result[i])\n",
    "            df.drop(columns=['Unnamed: 0'], inplace=True)\n",
    "        else:\n",
    "            print(result[i])\n",
    "            sample = pd.read_csv(path+result[i])\n",
    "            sample.drop(columns=['Unnamed: 0'], inplace=True)\n",
    "            df = pd.concat([df, sample] ,axis=0)\n",
    "    return df"
   ]
  },
  {
   "cell_type": "code",
   "execution_count": 61,
   "metadata": {},
   "outputs": [],
   "source": [
    "files_b = find_files('b')\n",
    "files_s = find_files('s')\n",
    "files_pz = find_files('pz')"
   ]
  },
  {
   "cell_type": "code",
   "execution_count": 62,
   "metadata": {},
   "outputs": [
    {
     "name": "stdout",
     "output_type": "stream",
     "text": [
      "df_feat_b_train_9050-9099.csv\n",
      "df_feat_b_train_1700-1749.csv\n",
      "df_feat_b_train_4750-4799.csv\n",
      "df_feat_b_train_7900-7949.csv\n",
      "df_feat_b_train_8800-8849.csv\n",
      "df_feat_b_train_8600-8649.csv\n",
      "df_feat_b_train_5050-5099.csv\n",
      "df_feat_b_train_8050-8099.csv\n",
      "df_feat_b_train_350-399.csv\n",
      "df_feat_b_train_1850-1899.csv\n",
      "df_feat_b_train_3950-3999.csv\n",
      "df_feat_b_train_2100-2149.csv\n",
      "df_feat_b_train_8950-8999.csv\n",
      "df_feat_b_train_4600-4649.csv\n",
      "df_feat_b_train_450-499.csv\n",
      "df_feat_b_train_4100-4149.csv\n",
      "df_feat_b_train_2800-2849.csv\n",
      "df_feat_b_train_700-749.csv\n",
      "df_feat_b_train_8400-8449.csv\n",
      "df_feat_b_train_5400-5449.csv\n",
      "df_feat_b_train_7200-7249.csv\n",
      "df_feat_b_train_8300-8349.csv\n",
      "df_feat_b_train_3400-3449.csv\n",
      "df_feat_b_train_9250-9299.csv\n",
      "df_feat_b_train_4550-4599.csv\n",
      "df_feat_b_train_1200-1249.csv\n",
      "df_feat_b_train_3250-3299.csv\n",
      "df_feat_b_train_1350-1399.csv\n",
      "df_feat_b_train_4300-4349.csv\n",
      "df_feat_b_train_800-849.csv\n",
      "df_feat_b_train_7350-7399.csv\n",
      "df_feat_b_train_5550-5599.csv\n",
      "df_feat_b_train_8550-8599.csv\n",
      "df_feat_b_train_2500-2549.csv\n",
      "df_feat_b_train_950-999.csv\n",
      "df_feat_b_train_8350-8399.csv\n",
      "df_feat_b_train_7250-7299.csv\n",
      "df_feat_b_train_5350-5399.csv\n",
      "df_feat_b_train_7550-7599.csv\n",
      "df_feat_b_train_8450-8499.csv\n",
      "df_feat_b_train_5450-5499.csv\n",
      "df_feat_b_train_2200-2249.csv\n",
      "df_feat_b_train_850-899.csv\n",
      "df_feat_b_train_1550-1599.csv\n",
      "df_feat_b_train_3450-3499.csv\n",
      "df_feat_b_train_4200-4249.csv\n",
      "df_feat_b_train_9200-9249.csv\n",
      "df_feat_b_train_3500-3549.csv\n",
      "df_feat_b_train_1400-1449.csv\n",
      "df_feat_b_train_4350-4399.csv\n",
      "df_feat_b_train_4450-4499.csv\n",
      "df_feat_b_train_3200-3249.csv\n",
      "df_feat_b_train_650-699.csv\n",
      "df_feat_b_train_1300-1349.csv\n",
      "df_feat_b_train_5500-5549.csv\n",
      "df_feat_b_train_150-199.csv\n",
      "df_feat_b_train_8500-8549.csv\n",
      "df_feat_b_train_7400-7449.csv\n",
      "df_feat_b_train_2450-2499.csv\n",
      "df_feat_b_train_1050-1099.csv\n",
      "df_feat_b_train_4700-4749.csv\n",
      "df_feat_b_train_8850-8899.csv\n",
      "df_feat_b_train_400-449.csv\n",
      "df_feat_b_train_4000-4049.csv\n",
      "df_feat_b_train_200-249.csv\n",
      "df_feat_b_train_2900-2949.csv\n",
      "df_feat_b_train_5150-5199.csv\n",
      "df_feat_b_train_2700-2749.csv\n",
      "df_feat_b_train_1950-1999.csv\n",
      "df_feat_b_train_2000-2049.csv\n",
      "df_feat_b_train_7750-7799.csv\n",
      "df_feat_b_train_4900-4949.csv\n",
      "df_feat_b_train_2150-2199.csv\n",
      "df_feat_b_train_4850-4899.csv\n",
      "df_feat_b_train_7600-7649.csv\n",
      "df_feat_b_train_8700-8749.csv\n",
      "df_feat_b_train_5000-5049.csv\n",
      "df_feat_b_train_8000-8049.csv\n",
      "df_feat_b_train_7100-7149.csv\n",
      "df_feat_b_train_3900-3949.csv\n",
      "df_feat_b_train_2650-2699.csv\n",
      "df_feat_b_train_9150-9199.csv\n",
      "df_feat_b_train_1600-1649.csv\n",
      "df_feat_b_train_3000-3049.csv\n",
      "df_feat_b_train_0-49.csv\n",
      "df_feat_b_train_8900-8949.csv\n",
      "df_feat_b_train_4650-4699.csv\n",
      "df_feat_s_train_7900-7949.csv\n",
      "df_feat_s_train_3100-3149.csv\n",
      "df_feat_s_train_1700-1749.csv\n",
      "df_feat_s_train_950-999.csv\n",
      "df_feat_s_train_3600-3649.csv\n",
      "df_feat_s_train_9050-9099.csv\n",
      "df_feat_s_train_2750-2799.csv\n",
      "df_feat_s_train_3800-3849.csv\n",
      "df_feat_s_train_7000-7049.csv\n",
      "df_feat_s_train_8100-8149.csv\n",
      "df_feat_s_train_5100-5149.csv\n",
      "df_feat_s_train_8600-8649.csv\n",
      "df_feat_s_train_7700-7749.csv\n",
      "df_feat_s_train_850-899.csv\n",
      "df_feat_s_train_4950-4999.csv\n",
      "df_feat_s_train_4800-4849.csv\n",
      "df_feat_s_train_7650-7699.csv\n",
      "df_feat_s_train_8750-8799.csv\n",
      "df_feat_s_train_650-699.csv\n",
      "df_feat_s_train_1850-1899.csv\n",
      "df_feat_s_train_5050-5099.csv\n",
      "df_feat_s_train_8050-8099.csv\n",
      "df_feat_s_train_3750-3799.csv\n",
      "df_feat_s_train_2800-2849.csv\n",
      "df_feat_s_train_1650-1699.csv\n",
      "df_feat_s_train_9100-9149.csv\n",
      "df_feat_s_train_4100-4149.csv\n",
      "df_feat_s_train_8950-8999.csv\n",
      "df_feat_s_train_150-199.csv\n",
      "df_feat_s_train_1150-1199.csv\n",
      "df_feat_s_train_7200-7249.csv\n",
      "df_feat_s_train_200-249.csv\n",
      "df_feat_s_train_5300-5349.csv\n",
      "df_feat_s_train_2250-2299.csv\n",
      "df_feat_s_train_400-449.csv\n",
      "df_feat_s_train_7500-7549.csv\n",
      "df_feat_s_train_8400-8449.csv\n",
      "df_feat_s_train_3300-3349.csv\n",
      "df_feat_s_train_300-349.csv\n",
      "df_feat_s_train_4550-4599.csv\n",
      "df_feat_s_train_50-99.csv\n",
      "df_feat_s_train_4250-4299.csv\n",
      "df_feat_s_train_1500-1549.csv\n",
      "df_feat_s_train_3400-3449.csv\n",
      "df_feat_s_train_4300-4349.csv\n",
      "df_feat_s_train_3550-3599.csv\n",
      "df_feat_s_train_3250-3299.csv\n",
      "df_feat_s_train_1350-1399.csv\n",
      "df_feat_s_train_4400-4449.csv\n",
      "df_feat_s_train_2300-2349.csv\n",
      "df_feat_s_train_5550-5599.csv\n",
      "df_feat_s_train_8550-8599.csv\n",
      "df_feat_s_train_7350-7399.csv\n",
      "df_feat_s_train_8250-8299.csv\n",
      "df_feat_s_train_8450-8499.csv\n",
      "df_feat_s_train_7550-7599.csv\n",
      "df_feat_s_train_5450-5499.csv\n",
      "df_feat_s_train_7250-7299.csv\n",
      "df_feat_s_train_4200-4249.csv\n",
      "df_feat_s_train_1550-1599.csv\n",
      "df_feat_s_train_4500-4549.csv\n",
      "df_feat_s_train_3200-3249.csv\n",
      "df_feat_s_train_550-599.csv\n",
      "df_feat_s_train_1300-1349.csv\n",
      "df_feat_s_train_4450-4499.csv\n",
      "df_feat_s_train_4350-4399.csv\n",
      "df_feat_s_train_3500-3549.csv\n",
      "df_feat_s_train_1400-1449.csv\n",
      "df_feat_s_train_350-399.csv\n",
      "df_feat_s_train_450-499.csv\n",
      "df_feat_s_train_5200-5249.csv\n",
      "df_feat_s_train_8200-8249.csv\n",
      "df_feat_s_train_7300-7349.csv\n",
      "df_feat_s_train_2450-2499.csv\n",
      "df_feat_s_train_2350-2399.csv\n",
      "df_feat_s_train_5500-5549.csv\n",
      "df_feat_s_train_8500-8549.csv\n",
      "df_feat_s_train_2900-2949.csv\n",
      "df_feat_s_train_4000-4049.csv\n",
      "df_feat_s_train_9000-9049.csv\n",
      "df_feat_s_train_7950-7999.csv\n",
      "df_feat_s_train_8850-8899.csv\n",
      "df_feat_s_train_700-749.csv\n",
      "df_feat_s_train_1050-1099.csv\n",
      "df_feat_s_train_3150-3199.csv\n",
      "df_feat_s_train_4900-4949.csv\n",
      "df_feat_s_train_2000-2049.csv\n",
      "df_feat_s_train_2700-2749.csv\n",
      "df_feat_s_train_600-649.csv\n",
      "df_feat_s_train_1950-1999.csv\n",
      "df_feat_s_train_5150-5199.csv\n",
      "df_feat_s_train_9300-9337.csv\n",
      "df_feat_s_train_800-849.csv\n",
      "df_feat_s_train_5000-5049.csv\n",
      "df_feat_s_train_7100-7149.csv\n",
      "df_feat_s_train_8000-8049.csv\n",
      "df_feat_s_train_8700-8749.csv\n",
      "df_feat_s_train_8900-8949.csv\n",
      "df_feat_s_train_4650-4699.csv\n",
      "df_feat_s_train_3000-3049.csv\n",
      "df_feat_s_train_900-949.csv\n",
      "df_feat_s_train_2850-2899.csv\n",
      "df_feat_s_train_3700-3749.csv\n",
      "df_feat_s_train_1600-1649.csv\n",
      "df_feat_s_train_9150-9199.csv\n",
      "df_feat_s_train_4150-4199.csv\n",
      "df_feat_pz_train_7250-7299.csv\n",
      "df_feat_pz_train_600-649.csv\n",
      "df_feat_pz_train_5350-5399.csv\n",
      "df_feat_pz_train_2500-2549.csv\n",
      "df_feat_pz_train_7550-7599.csv\n",
      "df_feat_pz_train_8450-8499.csv\n",
      "df_feat_pz_train_5450-5499.csv\n",
      "df_feat_pz_train_1250-1299.csv\n",
      "df_feat_pz_train_3350-3399.csv\n",
      "df_feat_pz_train_700-749.csv\n",
      "df_feat_pz_train_4500-4549.csv\n",
      "df_feat_pz_train_9200-9249.csv\n",
      "df_feat_pz_train_1550-1599.csv\n",
      "df_feat_pz_train_100-149.csv\n",
      "df_feat_pz_train_3450-3499.csv\n",
      "df_feat_pz_train_4350-4399.csv\n",
      "df_feat_pz_train_50-99.csv\n",
      "df_feat_pz_train_3500-3549.csv\n",
      "df_feat_pz_train_3200-3249.csv\n",
      "df_feat_pz_train_1300-1349.csv\n",
      "df_feat_pz_train_5500-5549.csv\n",
      "df_feat_pz_train_0-49.csv\n",
      "df_feat_pz_train_7400-7449.csv\n",
      "df_feat_pz_train_800-849.csv\n",
      "df_feat_pz_train_4700-4749.csv\n",
      "df_feat_pz_train_8850-8899.csv\n",
      "df_feat_pz_train_7950-7999.csv\n",
      "df_feat_pz_train_1050-1099.csv\n",
      "df_feat_pz_train_3150-3199.csv\n",
      "df_feat_pz_train_4000-4049.csv\n",
      "df_feat_pz_train_9000-9049.csv\n",
      "df_feat_pz_train_3850-3899.csv\n",
      "df_feat_pz_train_2700-2749.csv\n",
      "df_feat_pz_train_1950-1999.csv\n",
      "df_feat_pz_train_7050-7099.csv\n",
      "df_feat_pz_train_5150-5199.csv\n",
      "df_feat_pz_train_8650-8699.csv\n",
      "df_feat_pz_train_2000-2049.csv\n",
      "df_feat_pz_train_4850-4899.csv\n",
      "df_feat_pz_train_7600-7649.csv\n",
      "df_feat_pz_train_250-299.csv\n",
      "df_feat_pz_train_1800-1849.csv\n",
      "df_feat_pz_train_9300-9337.csv\n",
      "df_feat_pz_train_450-499.csv\n",
      "df_feat_pz_train_5000-5049.csv\n",
      "df_feat_pz_train_8000-8049.csv\n",
      "df_feat_pz_train_7100-7149.csv\n",
      "df_feat_pz_train_2850-2899.csv\n",
      "df_feat_pz_train_3700-3749.csv\n",
      "df_feat_pz_train_1600-1649.csv\n",
      "df_feat_pz_train_9150-9199.csv\n",
      "df_feat_pz_train_4150-4199.csv\n",
      "df_feat_pz_train_8900-8949.csv\n",
      "df_feat_pz_train_550-599.csv\n",
      "df_feat_pz_train_3000-3049.csv\n",
      "df_feat_pz_train_3600-3649.csv\n",
      "df_feat_pz_train_9050-9099.csv\n",
      "df_feat_pz_train_500-549.csv\n",
      "df_feat_pz_train_4750-4799.csv\n",
      "df_feat_pz_train_7900-7949.csv\n",
      "df_feat_pz_train_8800-8849.csv\n",
      "df_feat_pz_train_300-349.csv\n",
      "df_feat_pz_train_1000-1049.csv\n",
      "df_feat_pz_train_3100-3149.csv\n",
      "df_feat_pz_train_8600-8649.csv\n",
      "df_feat_pz_train_4950-4999.csv\n",
      "df_feat_pz_train_400-449.csv\n",
      "df_feat_pz_train_3800-3849.csv\n",
      "df_feat_pz_train_200-249.csv\n",
      "df_feat_pz_train_1900-1949.csv\n",
      "df_feat_pz_train_8100-8149.csv\n",
      "df_feat_pz_train_7000-7049.csv\n",
      "df_feat_pz_train_5100-5149.csv\n",
      "df_feat_pz_train_1850-1899.csv\n",
      "df_feat_pz_train_2600-2649.csv\n",
      "df_feat_pz_train_3950-3999.csv\n",
      "df_feat_pz_train_5050-5099.csv\n",
      "df_feat_pz_train_7150-7199.csv\n",
      "df_feat_pz_train_8750-8799.csv\n",
      "df_feat_pz_train_7650-7699.csv\n",
      "df_feat_pz_train_2100-2149.csv\n"
     ]
    },
    {
     "name": "stdout",
     "output_type": "stream",
     "text": [
      "df_feat_pz_train_7850-7899.csv\n",
      "df_feat_pz_train_1150-1199.csv\n",
      "df_feat_pz_train_2800-2849.csv\n",
      "df_feat_pz_train_1650-1699.csv\n",
      "df_feat_pz_train_9100-9149.csv\n",
      "df_feat_pz_train_2250-2299.csv\n",
      "df_feat_pz_train_850-899.csv\n",
      "df_feat_pz_train_5400-5449.csv\n",
      "df_feat_pz_train_7200-7249.csv\n",
      "df_feat_pz_train_5300-5349.csv\n",
      "df_feat_pz_train_2550-2599.csv\n",
      "df_feat_pz_train_4250-4299.csv\n",
      "df_feat_pz_train_950-999.csv\n",
      "df_feat_pz_train_1500-1549.csv\n",
      "df_feat_pz_train_1200-1249.csv\n",
      "df_feat_pz_train_4550-4599.csv\n",
      "df_feat_pz_train_3250-3299.csv\n",
      "df_feat_pz_train_1350-1399.csv\n",
      "df_feat_pz_train_4400-4449.csv\n",
      "df_feat_pz_train_3550-3599.csv\n",
      "df_feat_pz_train_750-799.csv\n",
      "df_feat_pz_train_1450-1499.csv\n",
      "df_feat_pz_train_5250-5299.csv\n",
      "df_feat_pz_train_8250-8299.csv\n",
      "df_feat_pz_train_7350-7399.csv\n",
      "df_feat_pz_train_2400-2449.csv\n",
      "df_feat_pz_train_5550-5599.csv\n",
      "df_feat_pz_train_650-699.csv\n",
      "df_feat_pz_train_8550-8599.csv\n"
     ]
    }
   ],
   "source": [
    "df_feat_b = read_csv(files_b)\n",
    "df_feat_s = read_csv(files_s)\n",
    "df_feat_pz = read_csv(files_pz)"
   ]
  },
  {
   "cell_type": "code",
   "execution_count": 92,
   "metadata": {},
   "outputs": [],
   "source": [
    "data_ = [df_feat_pz, df_feat_s, df_feat_b]\n",
    "combined_df = pd.concat(data_, sort=True)"
   ]
  },
  {
   "cell_type": "code",
   "execution_count": 93,
   "metadata": {},
   "outputs": [
    {
     "data": {
      "text/plain": [
       "(4158, 25501)"
      ]
     },
     "execution_count": 93,
     "metadata": {},
     "output_type": "execute_result"
    }
   ],
   "source": [
    "combined_df.shape"
   ]
  },
  {
   "cell_type": "code",
   "execution_count": 94,
   "metadata": {},
   "outputs": [],
   "source": [
    "combined_df = combined_df.dropna(axis=0, how='all')"
   ]
  },
  {
   "cell_type": "code",
   "execution_count": 95,
   "metadata": {},
   "outputs": [],
   "source": [
    "combined_df = combined_df.fillna(0)"
   ]
  },
  {
   "cell_type": "code",
   "execution_count": 96,
   "metadata": {},
   "outputs": [
    {
     "data": {
      "text/plain": [
       "0"
      ]
     },
     "execution_count": 96,
     "metadata": {},
     "output_type": "execute_result"
    }
   ],
   "source": [
    "combined_df.isnull().sum().sum()"
   ]
  },
  {
   "cell_type": "code",
   "execution_count": 97,
   "metadata": {},
   "outputs": [],
   "source": [
    "from sklearn.decomposition import PCA\n",
    "from sklearn.preprocessing import StandardScaler\n",
    "from sklearn.preprocessing import LabelEncoder\n",
    "from keras.utils import np_utils"
   ]
  },
  {
   "cell_type": "code",
   "execution_count": 98,
   "metadata": {},
   "outputs": [],
   "source": [
    "## TODO: Scalling\n",
    "combined_df_no_label = combined_df.drop(columns='Label')\n",
    "combined_df_ = StandardScaler().fit_transform(combined_df_no_label)"
   ]
  },
  {
   "cell_type": "code",
   "execution_count": 99,
   "metadata": {},
   "outputs": [
    {
     "data": {
      "text/plain": [
       "array([1.20532241e-01, 7.34242099e-02, 6.51721893e-02, 6.34068767e-02,\n",
       "       5.87896332e-02, 5.73374118e-02, 4.78936250e-02, 4.18243995e-02,\n",
       "       3.02196598e-02, 2.89585653e-02, 2.85980155e-02, 2.60677366e-02,\n",
       "       2.45409713e-02, 2.16212442e-02, 2.08083611e-02, 2.01232187e-02,\n",
       "       1.55983620e-02, 1.54217003e-02, 1.35937872e-02, 1.27938912e-02,\n",
       "       1.21368230e-02, 1.07798594e-02, 1.04286337e-02, 8.15582455e-03,\n",
       "       7.22211404e-03, 6.72216827e-03, 5.85107802e-03, 5.46474614e-03,\n",
       "       5.19739137e-03, 5.07342464e-03, 4.94030325e-03, 4.81244532e-03,\n",
       "       4.78507421e-03, 4.56778254e-03, 4.32854538e-03, 4.14232188e-03,\n",
       "       3.88606555e-03, 3.38617006e-03, 3.33567915e-03, 3.28797871e-03,\n",
       "       3.18863203e-03, 2.92721941e-03, 2.83689310e-03, 2.67504478e-03,\n",
       "       2.62231132e-03, 2.52577670e-03, 2.41874727e-03, 2.39327380e-03,\n",
       "       2.33065438e-03, 2.26755270e-03, 2.18590578e-03, 2.12287735e-03,\n",
       "       2.10556253e-03, 2.07441051e-03, 2.05726025e-03, 1.88981155e-03,\n",
       "       1.81985867e-03, 1.74067275e-03, 1.62214095e-03, 1.58736742e-03,\n",
       "       1.56363713e-03, 1.35117283e-03, 1.28230440e-03, 1.27806022e-03,\n",
       "       1.23593359e-03, 1.16990842e-03, 1.11781145e-03, 1.03456240e-03,\n",
       "       1.01727391e-03, 9.94069686e-04, 9.51027621e-04, 8.71489449e-04,\n",
       "       8.55405097e-04, 8.37906318e-04, 8.16662783e-04, 7.95116248e-04,\n",
       "       7.76217586e-04, 7.45711975e-04, 7.24646488e-04, 6.92005032e-04,\n",
       "       6.34089654e-04, 6.17132471e-04, 6.09856324e-04, 5.98734293e-04,\n",
       "       5.58991982e-04, 5.43876546e-04, 5.09342559e-04, 4.86986441e-04,\n",
       "       4.78485923e-04, 4.73112921e-04, 4.71032196e-04, 4.55799739e-04,\n",
       "       4.47198373e-04, 4.34435816e-04, 4.18735307e-04, 4.03894647e-04,\n",
       "       3.85646487e-04, 3.80975856e-04, 3.65265449e-04, 3.54887424e-04,\n",
       "       3.44741028e-04, 3.31103109e-04, 3.11355924e-04, 3.04916812e-04,\n",
       "       2.94622009e-04, 2.83684541e-04, 2.79357559e-04, 2.69599075e-04,\n",
       "       2.64912848e-04, 2.61776769e-04, 2.50568146e-04, 2.41104139e-04,\n",
       "       2.39072227e-04, 2.37246939e-04, 2.26713068e-04, 2.22753203e-04,\n",
       "       2.20680043e-04, 2.16369013e-04, 2.07414014e-04, 2.04339402e-04,\n",
       "       2.00637999e-04, 1.94475794e-04, 1.85110540e-04, 1.83487906e-04,\n",
       "       1.78274857e-04, 1.77353245e-04, 1.72835611e-04, 1.69251630e-04,\n",
       "       1.66794072e-04, 1.63806327e-04, 1.62312952e-04, 1.57962515e-04,\n",
       "       1.53657055e-04, 1.51141925e-04, 1.48777212e-04, 1.47106345e-04,\n",
       "       1.42012044e-04, 1.37402182e-04, 1.36231798e-04, 1.29751869e-04,\n",
       "       1.24795155e-04, 1.22584909e-04, 1.20193797e-04, 1.18623315e-04,\n",
       "       1.16519109e-04, 1.12450272e-04, 1.11208631e-04, 1.09568772e-04,\n",
       "       1.09151315e-04, 1.07472404e-04, 1.04807154e-04, 1.03441520e-04,\n",
       "       1.00546807e-04, 9.96847096e-05, 9.68070364e-05, 9.63552046e-05,\n",
       "       9.51204154e-05, 9.34352021e-05, 9.06932217e-05, 8.98085667e-05,\n",
       "       8.88291523e-05, 8.84321806e-05, 8.69146881e-05, 8.51905236e-05,\n",
       "       8.32502315e-05, 8.28571975e-05, 8.02525381e-05, 7.88898321e-05,\n",
       "       7.78303678e-05, 7.58216573e-05, 7.38698472e-05, 7.36049698e-05,\n",
       "       7.06351087e-05, 7.05769205e-05, 7.00878965e-05, 6.93496164e-05,\n",
       "       6.82618657e-05, 6.64663195e-05, 6.56410594e-05, 6.52792911e-05,\n",
       "       6.41791884e-05, 6.31653091e-05, 6.28589143e-05, 6.15197977e-05,\n",
       "       6.03512177e-05, 5.87683259e-05, 5.82127925e-05, 5.78689198e-05,\n",
       "       5.67317883e-05, 5.60750481e-05, 5.59029888e-05, 5.53795276e-05,\n",
       "       5.46984033e-05, 5.43355438e-05, 5.32197881e-05, 5.17443568e-05,\n",
       "       5.15650632e-05, 5.09896858e-05, 5.03787623e-05, 4.97852932e-05])"
      ]
     },
     "execution_count": 99,
     "metadata": {},
     "output_type": "execute_result"
    }
   ],
   "source": [
    "## TODO: Applying PCA reduce Dim\n",
    "\n",
    "pca = PCA(n_components=200)\n",
    "principalComponents = pca.fit_transform(combined_df_)\n",
    "pca_df = pd.DataFrame(data = principalComponents)\n",
    "\n",
    "pca_df['Label'] = combined_df['Label'].reset_index(drop=True)\n",
    "\n",
    "pca.explained_variance_ratio_"
   ]
  },
  {
   "cell_type": "code",
   "execution_count": 100,
   "metadata": {},
   "outputs": [],
   "source": [
    "## TODO: train and validate your model using neural network\n"
   ]
  },
  {
   "cell_type": "code",
   "execution_count": 101,
   "metadata": {},
   "outputs": [],
   "source": [
    "X = pca_df.drop(['Label'], axis=1)\n",
    "y = pca_df.Label"
   ]
  },
  {
   "cell_type": "code",
   "execution_count": 102,
   "metadata": {},
   "outputs": [],
   "source": [
    "from sklearn.model_selection import StratifiedShuffleSplit\n",
    "from sklearn.model_selection import train_test_split"
   ]
  },
  {
   "cell_type": "code",
   "execution_count": 103,
   "metadata": {},
   "outputs": [],
   "source": [
    "# use Stratied ShuffleSplit in case we combined all datasets\n"
   ]
  },
  {
   "cell_type": "code",
   "execution_count": 104,
   "metadata": {},
   "outputs": [],
   "source": [
    "xxx = StratifiedShuffleSplit(1, test_size=0.2, random_state=12)\n",
    "\n",
    "for train_index, test_index in xxx.split(X, y):\n",
    "    X_train, X_test = X.iloc[train_index], X.iloc[test_index]\n",
    "    y_train, y_test = y.iloc[train_index], y.iloc[test_index]"
   ]
  },
  {
   "cell_type": "code",
   "execution_count": 105,
   "metadata": {},
   "outputs": [],
   "source": [
    "#X_train, X_test, y_train, y_test = train_test_split(X, y, test_size=0.2)"
   ]
  },
  {
   "cell_type": "code",
   "execution_count": 106,
   "metadata": {},
   "outputs": [
    {
     "data": {
      "text/plain": [
       "bckg        2812\n",
       "seiz         425\n",
       "pre-seiz      89\n",
       "Name: Label, dtype: int64"
      ]
     },
     "execution_count": 106,
     "metadata": {},
     "output_type": "execute_result"
    }
   ],
   "source": [
    "y_train.value_counts()"
   ]
  },
  {
   "cell_type": "code",
   "execution_count": 107,
   "metadata": {},
   "outputs": [
    {
     "data": {
      "text/plain": [
       "bckg        704\n",
       "seiz        106\n",
       "pre-seiz     22\n",
       "Name: Label, dtype: int64"
      ]
     },
     "execution_count": 107,
     "metadata": {},
     "output_type": "execute_result"
    }
   ],
   "source": [
    "y_test.value_counts()"
   ]
  },
  {
   "cell_type": "code",
   "execution_count": 108,
   "metadata": {},
   "outputs": [],
   "source": [
    "X_train = np.array(X_train)\n",
    "y_train = np.array(y_train)\n",
    "X_test = np.array(X_test)\n",
    "y_test = np.array(y_test)\n",
    "lb = LabelEncoder()\n",
    "y_train = np_utils.to_categorical(lb.fit_transform(y_train))\n",
    "y_test = np_utils.to_categorical(lb.fit_transform(y_test))"
   ]
  },
  {
   "cell_type": "code",
   "execution_count": 109,
   "metadata": {},
   "outputs": [],
   "source": [
    "# TensorFlow Keras "
   ]
  },
  {
   "cell_type": "code",
   "execution_count": 189,
   "metadata": {},
   "outputs": [],
   "source": [
    "from keras.models import Sequential\n",
    "from keras.layers import Dense, Dropout\n",
    "import keras\n",
    "from keras import regularizers\n",
    "from keras.callbacks import EarlyStopping, ReduceLROnPlateau, ModelCheckpoint\n",
    "from keras.layers import Input, Flatten, Dropout, Activation, BatchNormalization\n",
    "from keras.layers import Conv1D, MaxPooling1D\n"
   ]
  },
  {
   "cell_type": "code",
   "execution_count": 111,
   "metadata": {},
   "outputs": [
    {
     "data": {
      "text/plain": [
       "(3326, 200)"
      ]
     },
     "execution_count": 111,
     "metadata": {},
     "output_type": "execute_result"
    }
   ],
   "source": [
    "X_train.shape"
   ]
  },
  {
   "cell_type": "code",
   "execution_count": 171,
   "metadata": {},
   "outputs": [],
   "source": [
    "opt = keras.optimizers.adam(learning_rate=0.0001)"
   ]
  },
  {
   "cell_type": "code",
   "execution_count": 172,
   "metadata": {},
   "outputs": [],
   "source": [
    "model = Sequential()\n",
    "\n",
    "model.add(Dense(X_train.shape[1], activation='relu'))\n",
    "model.add(Dense(256))\n",
    "model.add(Dropout(0.25))\n",
    "model.add(Dense(256))\n",
    "\n",
    "model.add(Dense((y_train.shape[1]), activation='softmax'))"
   ]
  },
  {
   "cell_type": "code",
   "execution_count": 173,
   "metadata": {},
   "outputs": [],
   "source": [
    "model.compile(loss='binary_crossentropy', optimizer=opt, metrics=['accuracy'])"
   ]
  },
  {
   "cell_type": "code",
   "execution_count": 174,
   "metadata": {},
   "outputs": [],
   "source": [
    "lr_reduce = ReduceLROnPlateau(monitor='val_loss', factor=0.9, patience=20, min_lr=0.00015)\n",
    "es = EarlyStopping(monitor='val_loss', mode='min', verbose=1, patience=20, min_delta=0.0001)"
   ]
  },
  {
   "cell_type": "code",
   "execution_count": 175,
   "metadata": {},
   "outputs": [
    {
     "name": "stdout",
     "output_type": "stream",
     "text": [
      "Train on 3326 samples, validate on 832 samples\n",
      "Epoch 1/300\n",
      "3326/3326 [==============================] - 0s 114us/step - loss: 0.5771 - accuracy: 0.8866 - val_loss: 0.3654 - val_accuracy: 0.9058\n",
      "Epoch 2/300\n",
      "3326/3326 [==============================] - 0s 55us/step - loss: 0.3959 - accuracy: 0.9093 - val_loss: 0.3497 - val_accuracy: 0.9127\n",
      "Epoch 3/300\n",
      "3326/3326 [==============================] - 0s 53us/step - loss: 0.3556 - accuracy: 0.9152 - val_loss: 0.3292 - val_accuracy: 0.9095\n",
      "Epoch 4/300\n",
      "3326/3326 [==============================] - 0s 54us/step - loss: 0.3059 - accuracy: 0.9211 - val_loss: 0.3097 - val_accuracy: 0.9155\n",
      "Epoch 5/300\n",
      "3326/3326 [==============================] - 0s 54us/step - loss: 0.2849 - accuracy: 0.9264 - val_loss: 0.2926 - val_accuracy: 0.9211\n",
      "Epoch 6/300\n",
      "3326/3326 [==============================] - 0s 56us/step - loss: 0.2465 - accuracy: 0.9353 - val_loss: 0.2812 - val_accuracy: 0.9235\n",
      "Epoch 7/300\n",
      "3326/3326 [==============================] - 0s 54us/step - loss: 0.2536 - accuracy: 0.9344 - val_loss: 0.2724 - val_accuracy: 0.9323\n",
      "Epoch 8/300\n",
      "3326/3326 [==============================] - 0s 55us/step - loss: 0.2218 - accuracy: 0.9424 - val_loss: 0.2394 - val_accuracy: 0.9419\n",
      "Epoch 9/300\n",
      "3326/3326 [==============================] - 0s 54us/step - loss: 0.1910 - accuracy: 0.9498 - val_loss: 0.2343 - val_accuracy: 0.9447\n",
      "Epoch 10/300\n",
      "3326/3326 [==============================] - 0s 52us/step - loss: 0.1878 - accuracy: 0.9492 - val_loss: 0.2243 - val_accuracy: 0.9451\n",
      "Epoch 11/300\n",
      "3326/3326 [==============================] - 0s 53us/step - loss: 0.1790 - accuracy: 0.9579 - val_loss: 0.1965 - val_accuracy: 0.9535\n",
      "Epoch 12/300\n",
      "3326/3326 [==============================] - 0s 52us/step - loss: 0.1552 - accuracy: 0.9614 - val_loss: 0.1978 - val_accuracy: 0.9535\n",
      "Epoch 13/300\n",
      "3326/3326 [==============================] - 0s 53us/step - loss: 0.1545 - accuracy: 0.9627 - val_loss: 0.1854 - val_accuracy: 0.9559\n",
      "Epoch 14/300\n",
      "3326/3326 [==============================] - 0s 53us/step - loss: 0.1403 - accuracy: 0.9655 - val_loss: 0.1760 - val_accuracy: 0.9583\n",
      "Epoch 15/300\n",
      "3326/3326 [==============================] - 0s 53us/step - loss: 0.1307 - accuracy: 0.9690 - val_loss: 0.1754 - val_accuracy: 0.9591\n",
      "Epoch 16/300\n",
      "3326/3326 [==============================] - 0s 56us/step - loss: 0.1327 - accuracy: 0.9698 - val_loss: 0.1706 - val_accuracy: 0.9603\n",
      "Epoch 17/300\n",
      "3326/3326 [==============================] - 0s 52us/step - loss: 0.1197 - accuracy: 0.9720 - val_loss: 0.1673 - val_accuracy: 0.9595\n",
      "Epoch 18/300\n",
      "3326/3326 [==============================] - 0s 54us/step - loss: 0.1211 - accuracy: 0.9722 - val_loss: 0.1802 - val_accuracy: 0.9587\n",
      "Epoch 19/300\n",
      "3326/3326 [==============================] - 0s 53us/step - loss: 0.1334 - accuracy: 0.9667 - val_loss: 0.1792 - val_accuracy: 0.9627\n",
      "Epoch 20/300\n",
      "3326/3326 [==============================] - 0s 53us/step - loss: 0.1174 - accuracy: 0.9735 - val_loss: 0.1581 - val_accuracy: 0.9663\n",
      "Epoch 21/300\n",
      "3326/3326 [==============================] - 0s 52us/step - loss: 0.1120 - accuracy: 0.9756 - val_loss: 0.1554 - val_accuracy: 0.9675\n",
      "Epoch 22/300\n",
      "3326/3326 [==============================] - 0s 54us/step - loss: 0.1099 - accuracy: 0.9750 - val_loss: 0.1572 - val_accuracy: 0.9643\n",
      "Epoch 23/300\n",
      "3326/3326 [==============================] - 0s 52us/step - loss: 0.1022 - accuracy: 0.9758 - val_loss: 0.1623 - val_accuracy: 0.9635\n",
      "Epoch 24/300\n",
      "3326/3326 [==============================] - 0s 54us/step - loss: 0.1000 - accuracy: 0.9763 - val_loss: 0.1547 - val_accuracy: 0.9655\n",
      "Epoch 25/300\n",
      "3326/3326 [==============================] - 0s 85us/step - loss: 0.1008 - accuracy: 0.9773 - val_loss: 0.1520 - val_accuracy: 0.9683\n",
      "Epoch 26/300\n",
      "3326/3326 [==============================] - 0s 56us/step - loss: 0.0963 - accuracy: 0.9788 - val_loss: 0.1550 - val_accuracy: 0.9635\n",
      "Epoch 27/300\n",
      "3326/3326 [==============================] - 0s 53us/step - loss: 0.1042 - accuracy: 0.9778 - val_loss: 0.1452 - val_accuracy: 0.9704\n",
      "Epoch 28/300\n",
      "3326/3326 [==============================] - 0s 54us/step - loss: 0.0926 - accuracy: 0.9798 - val_loss: 0.1431 - val_accuracy: 0.9704\n",
      "Epoch 29/300\n",
      "3326/3326 [==============================] - 0s 56us/step - loss: 0.0862 - accuracy: 0.9797 - val_loss: 0.1428 - val_accuracy: 0.9696\n",
      "Epoch 30/300\n",
      "3326/3326 [==============================] - 0s 57us/step - loss: 0.0850 - accuracy: 0.9799 - val_loss: 0.1421 - val_accuracy: 0.9696\n",
      "Epoch 31/300\n",
      "3326/3326 [==============================] - 0s 50us/step - loss: 0.0953 - accuracy: 0.9792 - val_loss: 0.1411 - val_accuracy: 0.9716\n",
      "Epoch 32/300\n",
      "3326/3326 [==============================] - 0s 53us/step - loss: 0.0884 - accuracy: 0.9797 - val_loss: 0.1364 - val_accuracy: 0.9704\n",
      "Epoch 33/300\n",
      "3326/3326 [==============================] - 0s 53us/step - loss: 0.0739 - accuracy: 0.9820 - val_loss: 0.1340 - val_accuracy: 0.9704\n",
      "Epoch 34/300\n",
      "3326/3326 [==============================] - 0s 51us/step - loss: 0.0848 - accuracy: 0.9803 - val_loss: 0.1511 - val_accuracy: 0.9700\n",
      "Epoch 35/300\n",
      "3326/3326 [==============================] - 0s 53us/step - loss: 0.0787 - accuracy: 0.9821 - val_loss: 0.1499 - val_accuracy: 0.9696\n",
      "Epoch 36/300\n",
      "3326/3326 [==============================] - 0s 55us/step - loss: 0.0728 - accuracy: 0.9829 - val_loss: 0.1462 - val_accuracy: 0.9696\n",
      "Epoch 37/300\n",
      "3326/3326 [==============================] - 0s 53us/step - loss: 0.0732 - accuracy: 0.9833 - val_loss: 0.1456 - val_accuracy: 0.9696\n",
      "Epoch 38/300\n",
      "3326/3326 [==============================] - 0s 53us/step - loss: 0.0680 - accuracy: 0.9850 - val_loss: 0.1562 - val_accuracy: 0.9679\n",
      "Epoch 39/300\n",
      "3326/3326 [==============================] - 0s 52us/step - loss: 0.0676 - accuracy: 0.9842 - val_loss: 0.1451 - val_accuracy: 0.9700\n",
      "Epoch 40/300\n",
      "3326/3326 [==============================] - 0s 53us/step - loss: 0.0653 - accuracy: 0.9857 - val_loss: 0.1255 - val_accuracy: 0.9712\n",
      "Epoch 41/300\n",
      "3326/3326 [==============================] - 0s 55us/step - loss: 0.0664 - accuracy: 0.9861 - val_loss: 0.1284 - val_accuracy: 0.9712\n",
      "Epoch 42/300\n",
      "3326/3326 [==============================] - 0s 51us/step - loss: 0.0677 - accuracy: 0.9863 - val_loss: 0.1291 - val_accuracy: 0.9704\n",
      "Epoch 43/300\n",
      "3326/3326 [==============================] - 0s 54us/step - loss: 0.0658 - accuracy: 0.9857 - val_loss: 0.1283 - val_accuracy: 0.9716\n",
      "Epoch 44/300\n",
      "3326/3326 [==============================] - 0s 54us/step - loss: 0.0589 - accuracy: 0.9875 - val_loss: 0.1296 - val_accuracy: 0.9708\n",
      "Epoch 45/300\n",
      "3326/3326 [==============================] - 0s 61us/step - loss: 0.0577 - accuracy: 0.9877 - val_loss: 0.1242 - val_accuracy: 0.9716\n",
      "Epoch 46/300\n",
      "3326/3326 [==============================] - 0s 59us/step - loss: 0.0601 - accuracy: 0.9889 - val_loss: 0.1358 - val_accuracy: 0.9687\n",
      "Epoch 47/300\n",
      "3326/3326 [==============================] - 0s 56us/step - loss: 0.0574 - accuracy: 0.9892 - val_loss: 0.1283 - val_accuracy: 0.9700\n",
      "Epoch 48/300\n",
      "3326/3326 [==============================] - 0s 54us/step - loss: 0.0510 - accuracy: 0.9895 - val_loss: 0.1271 - val_accuracy: 0.9720\n",
      "Epoch 49/300\n",
      "3326/3326 [==============================] - 0s 54us/step - loss: 0.0517 - accuracy: 0.9901 - val_loss: 0.1266 - val_accuracy: 0.9720\n",
      "Epoch 50/300\n",
      "3326/3326 [==============================] - 0s 54us/step - loss: 0.0644 - accuracy: 0.9877 - val_loss: 0.1850 - val_accuracy: 0.9667\n",
      "Epoch 51/300\n",
      "3326/3326 [==============================] - 0s 53us/step - loss: 0.0599 - accuracy: 0.9897 - val_loss: 0.1865 - val_accuracy: 0.9667\n",
      "Epoch 52/300\n",
      "3326/3326 [==============================] - 0s 54us/step - loss: 0.0553 - accuracy: 0.9897 - val_loss: 0.1589 - val_accuracy: 0.9712\n",
      "Epoch 53/300\n",
      "3326/3326 [==============================] - 0s 54us/step - loss: 0.0486 - accuracy: 0.9910 - val_loss: 0.1547 - val_accuracy: 0.9712\n",
      "Epoch 54/300\n",
      "3326/3326 [==============================] - 0s 56us/step - loss: 0.0509 - accuracy: 0.9911 - val_loss: 0.1589 - val_accuracy: 0.9712\n",
      "Epoch 55/300\n",
      "3326/3326 [==============================] - 0s 56us/step - loss: 0.0468 - accuracy: 0.9913 - val_loss: 0.1585 - val_accuracy: 0.9712\n",
      "Epoch 56/300\n"
     ]
    },
    {
     "name": "stdout",
     "output_type": "stream",
     "text": [
      "3326/3326 [==============================] - 0s 54us/step - loss: 0.0423 - accuracy: 0.9918 - val_loss: 0.1582 - val_accuracy: 0.9704\n",
      "Epoch 57/300\n",
      "3326/3326 [==============================] - 0s 51us/step - loss: 0.0422 - accuracy: 0.9918 - val_loss: 0.1547 - val_accuracy: 0.9708\n",
      "Epoch 58/300\n",
      "3326/3326 [==============================] - 0s 54us/step - loss: 0.0467 - accuracy: 0.9921 - val_loss: 0.1544 - val_accuracy: 0.9716\n",
      "Epoch 59/300\n",
      "3326/3326 [==============================] - 0s 54us/step - loss: 0.0425 - accuracy: 0.9922 - val_loss: 0.1575 - val_accuracy: 0.9700\n",
      "Epoch 60/300\n",
      "3326/3326 [==============================] - 0s 54us/step - loss: 0.0414 - accuracy: 0.9932 - val_loss: 0.1673 - val_accuracy: 0.9687\n",
      "Epoch 61/300\n",
      "3326/3326 [==============================] - 0s 54us/step - loss: 0.0443 - accuracy: 0.9930 - val_loss: 0.1497 - val_accuracy: 0.9716\n",
      "Epoch 62/300\n",
      "3326/3326 [==============================] - 0s 54us/step - loss: 0.0497 - accuracy: 0.9917 - val_loss: 0.1837 - val_accuracy: 0.9687\n",
      "Epoch 63/300\n",
      "3326/3326 [==============================] - 0s 56us/step - loss: 0.0408 - accuracy: 0.9937 - val_loss: 0.1641 - val_accuracy: 0.9700\n",
      "Epoch 64/300\n",
      "3326/3326 [==============================] - 0s 54us/step - loss: 0.0429 - accuracy: 0.9939 - val_loss: 0.1567 - val_accuracy: 0.9724\n",
      "Epoch 65/300\n",
      "3326/3326 [==============================] - 0s 54us/step - loss: 0.0531 - accuracy: 0.9915 - val_loss: 0.1513 - val_accuracy: 0.9724\n",
      "Epoch 00065: early stopping\n"
     ]
    }
   ],
   "source": [
    "history = model.fit(X_train,\n",
    "                    y_train,\n",
    "                    validation_data=(X_test, y_test),\n",
    "                    epochs=300,\n",
    "                    batch_size=None,\n",
    "                    verbose=1,\n",
    "                    callbacks=[lr_reduce, es]) "
   ]
  },
  {
   "cell_type": "code",
   "execution_count": 176,
   "metadata": {},
   "outputs": [],
   "source": [
    "# need more data to run the model "
   ]
  },
  {
   "cell_type": "code",
   "execution_count": 177,
   "metadata": {},
   "outputs": [
    {
     "name": "stdout",
     "output_type": "stream",
     "text": [
      "Train loss 0.05305232928216825\n",
      "Test loss 0.15129073394032624\n"
     ]
    }
   ],
   "source": [
    "print('Train loss', history.history['loss'][-1])\n",
    "print('Test loss', history.history['val_loss'][-1])"
   ]
  },
  {
   "cell_type": "code",
   "execution_count": 178,
   "metadata": {},
   "outputs": [
    {
     "name": "stdout",
     "output_type": "stream",
     "text": [
      "Train accuracy 0.9914811\n",
      "Test accuracy 0.9723557233810425\n"
     ]
    }
   ],
   "source": [
    "print('Train accuracy', history.history['accuracy'][-1])\n",
    "print('Test accuracy', history.history['val_accuracy'][-1])"
   ]
  },
  {
   "cell_type": "code",
   "execution_count": 179,
   "metadata": {},
   "outputs": [
    {
     "data": {
      "text/plain": [
       "<matplotlib.legend.Legend at 0x135148f50>"
      ]
     },
     "execution_count": 179,
     "metadata": {},
     "output_type": "execute_result"
    },
    {
     "data": {
      "image/png": "[encoded data removed]",
      "text/plain": [
       "<Figure size 432x288 with 1 Axes>"
      ]
     },
     "metadata": {
      "needs_background": "light"
     },
     "output_type": "display_data"
    }
   ],
   "source": [
    "train_loss = history.history['loss']\n",
    "test_loss = history.history['val_loss']\n",
    "plt.plot(train_loss, label='Training loss')\n",
    "plt.plot(test_loss, label='Testing loss')\n",
    "plt.title('Loss For Training and Testing')\n",
    "plt.legend()"
   ]
  },
  {
   "cell_type": "code",
   "execution_count": 120,
   "metadata": {},
   "outputs": [
    {
     "name": "stdout",
     "output_type": "stream",
     "text": [
      "Model: \"sequential_2\"\n",
      "_________________________________________________________________\n",
      "Layer (type)                 Output Shape              Param #   \n",
      "=================================================================\n",
      "dense_4 (Dense)              (None, 200)               40200     \n",
      "_________________________________________________________________\n",
      "dense_5 (Dense)              (None, 256)               51456     \n",
      "_________________________________________________________________\n",
      "dense_6 (Dense)              (None, 3)                 771       \n",
      "=================================================================\n",
      "Total params: 92,427\n",
      "Trainable params: 92,427\n",
      "Non-trainable params: 0\n",
      "_________________________________________________________________\n"
     ]
    }
   ],
   "source": [
    "model.summary()"
   ]
  },
  {
   "cell_type": "markdown",
   "metadata": {},
   "source": [
    "# CNN"
   ]
  },
  {
   "cell_type": "code",
   "execution_count": 180,
   "metadata": {},
   "outputs": [],
   "source": [
    "x_traincnn = np.expand_dims(X_train, axis=2)\n",
    "x_testcnn = np.expand_dims(X_test, axis=2)"
   ]
  },
  {
   "cell_type": "code",
   "execution_count": 195,
   "metadata": {},
   "outputs": [],
   "source": [
    "model = Sequential()\n",
    "\n",
    "model.add(Conv1D(256, 8,padding='same', kernel_regularizer=regularizers.l2(0.01), activation='relu',\n",
    "                 input_shape=(x_traincnn.shape[1],x_traincnn.shape[2])))\n",
    "\n",
    "model.add(BatchNormalization())\n",
    "model.add(Conv1D(128, 8, activation='relu', kernel_regularizer=regularizers.l2(0.02)))\n",
    "model.add(BatchNormalization())\n",
    "model.add(MaxPooling1D(pool_size=(2)))\n",
    "model.add(Dropout(0.20))\n",
    "\n",
    "model.add(Conv1D(64, 8, activation='relu', kernel_regularizer=regularizers.l2(0.02)))\n",
    "model.add(BatchNormalization())\n",
    "model.add(Conv1D(64, 8, activation='relu', kernel_regularizer=regularizers.l2(0.02)))\n",
    "model.add(BatchNormalization())       \n",
    "model.add(MaxPooling1D(pool_size=(2)))\n",
    "model.add(Dropout(0.30))\n",
    "\n",
    "# model.add(Conv1D(265, 8, activation='relu', padding='same', kernel_regularizer=regularizers.l2(0.01)))\n",
    "# model.add(BatchNormalization())\n",
    "# model.add(Conv1D(128, 8, activation='relu', kernel_regularizer=regularizers.l2(0.01)))      \n",
    "# model.add(BatchNormalization())       \n",
    "# model.add(MaxPooling1D(pool_size=(2)))\n",
    "# model.add(Dropout(0.40))\n",
    "\n",
    "model.add(Flatten())\n",
    "\n",
    "model.add(Dense(1024, activation='relu', kernel_regularizer=regularizers.l2(0.02)))\n",
    "model.add(Dropout(0.30))\n",
    "\n",
    "\n",
    "model.add(Dense(512, activation='relu', kernel_regularizer=regularizers.l2(0.02)))\n",
    "model.add(Dropout(0.20))\n",
    "\n",
    "\n",
    "model.add(Dense(y_train.shape[1], activation='softmax'))\n",
    "\n",
    "adam = keras.optimizers.Adam(lr=0.001, decay=1e-6)"
   ]
  },
  {
   "cell_type": "code",
   "execution_count": 196,
   "metadata": {},
   "outputs": [],
   "source": [
    "model.compile(loss='categorical_crossentropy', optimizer=adam, metrics=['accuracy'])"
   ]
  },
  {
   "cell_type": "code",
   "execution_count": 197,
   "metadata": {},
   "outputs": [
    {
     "name": "stdout",
     "output_type": "stream",
     "text": [
      "Train on 3326 samples, validate on 832 samples\n",
      "Epoch 1/300\n",
      "3326/3326 [==============================] - 24s 7ms/step - loss: 17.1165 - accuracy: 0.9059 - val_loss: 5.6362 - val_accuracy: 0.9375\n",
      "Epoch 2/300\n",
      "3326/3326 [==============================] - 23s 7ms/step - loss: 2.9439 - accuracy: 0.9453 - val_loss: 2.1220 - val_accuracy: 0.9327\n",
      "Epoch 3/300\n",
      "3326/3326 [==============================] - 24s 7ms/step - loss: 1.3304 - accuracy: 0.9474 - val_loss: 1.4508 - val_accuracy: 0.8582\n",
      "Epoch 4/300\n",
      "3326/3326 [==============================] - 43s 13ms/step - loss: 0.9270 - accuracy: 0.9507 - val_loss: 1.2524 - val_accuracy: 0.9423\n",
      "Epoch 5/300\n",
      "3326/3326 [==============================] - 29s 9ms/step - loss: 0.7243 - accuracy: 0.9504 - val_loss: 1.0243 - val_accuracy: 0.9135\n",
      "Epoch 6/300\n",
      "3326/3326 [==============================] - 26s 8ms/step - loss: 0.7335 - accuracy: 0.9516 - val_loss: 0.8985 - val_accuracy: 0.9291\n",
      "Epoch 7/300\n",
      "3326/3326 [==============================] - 27s 8ms/step - loss: 0.7462 - accuracy: 0.9510 - val_loss: 1.1450 - val_accuracy: 0.8474\n",
      "Epoch 8/300\n",
      "3326/3326 [==============================] - 27s 8ms/step - loss: 0.7187 - accuracy: 0.9519 - val_loss: 0.9512 - val_accuracy: 0.8606\n",
      "Epoch 9/300\n",
      "3326/3326 [==============================] - 27s 8ms/step - loss: 0.7793 - accuracy: 0.9504 - val_loss: 1.0971 - val_accuracy: 0.8798\n",
      "Epoch 10/300\n",
      "3326/3326 [==============================] - 27s 8ms/step - loss: 0.7352 - accuracy: 0.9498 - val_loss: 0.8981 - val_accuracy: 0.8678\n",
      "Epoch 11/300\n",
      "3326/3326 [==============================] - 26s 8ms/step - loss: 0.6996 - accuracy: 0.9489 - val_loss: 0.8919 - val_accuracy: 0.9243\n",
      "Epoch 12/300\n",
      "3326/3326 [==============================] - 27s 8ms/step - loss: 0.6606 - accuracy: 0.9537 - val_loss: 0.9073 - val_accuracy: 0.9231\n",
      "Epoch 13/300\n",
      "3326/3326 [==============================] - 28s 8ms/step - loss: 0.8182 - accuracy: 0.9570 - val_loss: 1.0472 - val_accuracy: 0.8666\n",
      "Epoch 14/300\n",
      "3326/3326 [==============================] - 29s 9ms/step - loss: 0.7530 - accuracy: 0.9519 - val_loss: 1.0625 - val_accuracy: 0.8714\n",
      "Epoch 15/300\n",
      "3326/3326 [==============================] - 28s 8ms/step - loss: 0.7416 - accuracy: 0.9540 - val_loss: 0.7453 - val_accuracy: 0.9255\n",
      "Epoch 16/300\n",
      "3326/3326 [==============================] - 28s 8ms/step - loss: 0.6866 - accuracy: 0.9549 - val_loss: 0.8351 - val_accuracy: 0.8810\n",
      "Epoch 17/300\n",
      "3326/3326 [==============================] - 28s 8ms/step - loss: 0.7470 - accuracy: 0.9537 - val_loss: 1.0579 - val_accuracy: 0.8522\n",
      "Epoch 18/300\n",
      "3326/3326 [==============================] - 29s 9ms/step - loss: 0.7542 - accuracy: 0.9522 - val_loss: 0.8716 - val_accuracy: 0.8930\n",
      "Epoch 19/300\n",
      "3326/3326 [==============================] - 28s 8ms/step - loss: 0.6677 - accuracy: 0.9570 - val_loss: 0.8361 - val_accuracy: 0.8738\n",
      "Epoch 20/300\n",
      "3326/3326 [==============================] - 27s 8ms/step - loss: 0.7266 - accuracy: 0.9522 - val_loss: 1.2632 - val_accuracy: 0.8702\n",
      "Epoch 21/300\n",
      "3326/3326 [==============================] - 29s 9ms/step - loss: 0.6374 - accuracy: 0.9564 - val_loss: 0.8881 - val_accuracy: 0.9123\n",
      "Epoch 22/300\n",
      "3326/3326 [==============================] - 28s 8ms/step - loss: 0.7302 - accuracy: 0.9552 - val_loss: 0.7887 - val_accuracy: 0.8882\n",
      "Epoch 23/300\n",
      "3326/3326 [==============================] - 26s 8ms/step - loss: 0.6533 - accuracy: 0.9525 - val_loss: 0.7175 - val_accuracy: 0.9099\n",
      "Epoch 24/300\n",
      "3326/3326 [==============================] - 28s 8ms/step - loss: 0.6096 - accuracy: 0.9582 - val_loss: 0.8516 - val_accuracy: 0.8894\n",
      "Epoch 25/300\n",
      "3326/3326 [==============================] - 27s 8ms/step - loss: 0.6458 - accuracy: 0.9534 - val_loss: 0.7988 - val_accuracy: 0.8954\n",
      "Epoch 26/300\n",
      "3326/3326 [==============================] - 27s 8ms/step - loss: 0.7006 - accuracy: 0.9525 - val_loss: 0.8530 - val_accuracy: 0.8942\n",
      "Epoch 27/300\n",
      "3326/3326 [==============================] - 28s 8ms/step - loss: 0.6189 - accuracy: 0.9573 - val_loss: 0.8230 - val_accuracy: 0.9507\n",
      "Epoch 28/300\n",
      "3326/3326 [==============================] - 28s 8ms/step - loss: 0.7829 - accuracy: 0.9528 - val_loss: 0.8185 - val_accuracy: 0.9315\n",
      "Epoch 29/300\n",
      "3326/3326 [==============================] - 27s 8ms/step - loss: 0.6196 - accuracy: 0.9543 - val_loss: 0.8800 - val_accuracy: 0.8618\n",
      "Epoch 30/300\n",
      "3326/3326 [==============================] - 28s 8ms/step - loss: 0.6257 - accuracy: 0.9540 - val_loss: 0.6747 - val_accuracy: 0.9195\n",
      "Epoch 31/300\n",
      "3326/3326 [==============================] - 29s 9ms/step - loss: 0.6397 - accuracy: 0.9519 - val_loss: 0.7994 - val_accuracy: 0.9375\n",
      "Epoch 32/300\n",
      "3326/3326 [==============================] - 27s 8ms/step - loss: 0.5983 - accuracy: 0.9552 - val_loss: 0.7189 - val_accuracy: 0.9002\n",
      "Epoch 33/300\n",
      "3326/3326 [==============================] - 27s 8ms/step - loss: 0.5885 - accuracy: 0.9561 - val_loss: 0.8953 - val_accuracy: 0.9099\n",
      "Epoch 34/300\n",
      "3326/3326 [==============================] - 26s 8ms/step - loss: 0.6120 - accuracy: 0.9570 - val_loss: 0.6905 - val_accuracy: 0.9207\n",
      "Epoch 35/300\n",
      "3326/3326 [==============================] - 27s 8ms/step - loss: 0.5889 - accuracy: 0.9564 - val_loss: 0.5466 - val_accuracy: 0.9495\n",
      "Epoch 36/300\n",
      "3326/3326 [==============================] - 27s 8ms/step - loss: 0.5689 - accuracy: 0.9546 - val_loss: 0.8412 - val_accuracy: 0.8293\n",
      "Epoch 37/300\n",
      "3326/3326 [==============================] - 26s 8ms/step - loss: 0.5264 - accuracy: 0.9573 - val_loss: 0.6645 - val_accuracy: 0.9423\n",
      "Epoch 38/300\n",
      "3326/3326 [==============================] - 26s 8ms/step - loss: 0.5534 - accuracy: 0.9543 - val_loss: 0.5658 - val_accuracy: 0.9531\n",
      "Epoch 39/300\n",
      "3326/3326 [==============================] - 28s 8ms/step - loss: 0.5185 - accuracy: 0.9555 - val_loss: 0.6068 - val_accuracy: 0.9279\n",
      "Epoch 40/300\n",
      "3326/3326 [==============================] - 27s 8ms/step - loss: 0.5951 - accuracy: 0.9516 - val_loss: 0.8902 - val_accuracy: 0.9087\n",
      "Epoch 41/300\n",
      "3326/3326 [==============================] - 26s 8ms/step - loss: 0.5810 - accuracy: 0.9546 - val_loss: 0.7228 - val_accuracy: 0.9014\n",
      "Epoch 42/300\n",
      "3326/3326 [==============================] - 27s 8ms/step - loss: 0.5080 - accuracy: 0.9597 - val_loss: 0.5809 - val_accuracy: 0.9026\n",
      "Epoch 43/300\n",
      "3326/3326 [==============================] - 27s 8ms/step - loss: 0.6198 - accuracy: 0.9474 - val_loss: 0.6863 - val_accuracy: 0.9411\n",
      "Epoch 44/300\n",
      "3326/3326 [==============================] - 149s 45ms/step - loss: 0.5180 - accuracy: 0.9573 - val_loss: 0.6812 - val_accuracy: 0.9279\n",
      "Epoch 45/300\n",
      "3326/3326 [==============================] - 31s 9ms/step - loss: 0.5881 - accuracy: 0.9549 - val_loss: 0.8622 - val_accuracy: 0.8954\n",
      "Epoch 46/300\n",
      "3326/3326 [==============================] - 23s 7ms/step - loss: 0.5357 - accuracy: 0.9570 - val_loss: 0.6235 - val_accuracy: 0.9303\n",
      "Epoch 47/300\n",
      "3326/3326 [==============================] - 24s 7ms/step - loss: 0.5401 - accuracy: 0.9567 - val_loss: 0.6161 - val_accuracy: 0.9255\n",
      "Epoch 48/300\n",
      "3326/3326 [==============================] - 24s 7ms/step - loss: 0.5885 - accuracy: 0.9528 - val_loss: 0.7254 - val_accuracy: 0.9387\n",
      "Epoch 49/300\n",
      "3326/3326 [==============================] - 44s 13ms/step - loss: 0.5772 - accuracy: 0.9564 - val_loss: 0.7347 - val_accuracy: 0.9135\n",
      "Epoch 50/300\n",
      "3326/3326 [==============================] - 37s 11ms/step - loss: 0.5257 - accuracy: 0.9582 - val_loss: 0.5726 - val_accuracy: 0.9651\n",
      "Epoch 51/300\n",
      "3326/3326 [==============================] - 26s 8ms/step - loss: 0.5296 - accuracy: 0.9621 - val_loss: 0.6718 - val_accuracy: 0.9507\n",
      "Epoch 52/300\n",
      "3326/3326 [==============================] - 28s 8ms/step - loss: 0.5712 - accuracy: 0.9567 - val_loss: 0.5731 - val_accuracy: 0.9279\n",
      "Epoch 53/300\n",
      "3326/3326 [==============================] - 30s 9ms/step - loss: 0.4589 - accuracy: 0.9591 - val_loss: 0.6071 - val_accuracy: 0.9171\n",
      "Epoch 54/300\n",
      "3326/3326 [==============================] - 28s 8ms/step - loss: 0.4763 - accuracy: 0.9606 - val_loss: 0.5775 - val_accuracy: 0.9339\n",
      "Epoch 55/300\n",
      "3326/3326 [==============================] - 28s 8ms/step - loss: 0.5393 - accuracy: 0.9552 - val_loss: 0.5840 - val_accuracy: 0.9603\n",
      "Epoch 00055: early stopping\n"
     ]
    }
   ],
   "source": [
    "# Model Training\n",
    "\n",
    "lr_reduce = ReduceLROnPlateau(monitor='val_loss', factor=0.9, patience=20, min_lr=0.0015)\n",
    "es = EarlyStopping(monitor='val_loss', mode='min', verbose=1, patience=20, min_delta=0.0001)\n",
    "cnnhistory=model.fit(x_traincnn, y_train, batch_size=16, epochs=300,\n",
    "                     validation_data=(x_testcnn, y_test), callbacks=[lr_reduce, es])"
   ]
  },
  {
   "cell_type": "code",
   "execution_count": 198,
   "metadata": {},
   "outputs": [
    {
     "name": "stdout",
     "output_type": "stream",
     "text": [
      "Train loss 0.53928624759291\n",
      "Test loss 0.5840147200685281\n"
     ]
    }
   ],
   "source": [
    "print('Train loss', cnnhistory.history['loss'][-1])\n",
    "print('Test loss', cnnhistory.history['val_loss'][-1])"
   ]
  },
  {
   "cell_type": "code",
   "execution_count": 199,
   "metadata": {},
   "outputs": [
    {
     "name": "stdout",
     "output_type": "stream",
     "text": [
      "Train accuracy 0.95520145\n",
      "Test accuracy 0.9603365659713745\n"
     ]
    }
   ],
   "source": [
    "print('Train accuracy', cnnhistory.history['accuracy'][-1])\n",
    "print('Test accuracy', cnnhistory.history['val_accuracy'][-1])"
   ]
  },
  {
   "cell_type": "code",
   "execution_count": 200,
   "metadata": {},
   "outputs": [
    {
     "data": {
      "image/png": "[encoded data removed]",
      "text/plain": [
       "<Figure size 432x288 with 1 Axes>"
      ]
     },
     "metadata": {
      "needs_background": "light"
     },
     "output_type": "display_data"
    }
   ],
   "source": [
    "# Plotting the Train Valid Loss Graph\n",
    "\n",
    "plt.plot(cnnhistory.history['loss'])\n",
    "plt.plot(cnnhistory.history['val_loss'])\n",
    "plt.title('model loss')\n",
    "plt.ylabel('loss')\n",
    "plt.xlabel('epoch')\n",
    "plt.legend(['train', 'test'], loc='upper right')\n",
    "plt.show()"
   ]
  },
  {
   "cell_type": "code",
   "execution_count": null,
   "metadata": {},
   "outputs": [],
   "source": []
  }
 ],
 "metadata": {
  "kernelspec": {
   "display_name": "Python 3",
   "language": "python",
   "name": "python3"
  },
  "language_info": {
   "codemirror_mode": {
    "name": "ipython",
    "version": 3
   },
   "file_extension": ".py",
   "mimetype": "text/x-python",
   "name": "python",
   "nbconvert_exporter": "python",
   "pygments_lexer": "ipython3",
   "version": "3.7.4"
  }
 },
 "nbformat": 4,
 "nbformat_minor": 4
}
